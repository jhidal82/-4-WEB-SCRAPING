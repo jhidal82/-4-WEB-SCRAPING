{
 "cells": [
  {
   "cell_type": "markdown",
   "id": "93c53665",
   "metadata": {},
   "source": [
    "*Creado por:*\n",
    "\n",
    "*Isabel Maniega*"
   ]
  },
  {
   "cell_type": "markdown",
   "id": "9daca19a",
   "metadata": {},
   "source": [
    "***"
   ]
  },
  {
   "cell_type": "markdown",
   "id": "96042eb3",
   "metadata": {},
   "source": [
    "**Qué es Web Scraping**\n",
    "\n",
    "* Tambien Llamado Scrapeo Web, raspado Web\n",
    "\n",
    "* Permite extraer datos de la web de forma automatizada\n",
    "\n",
    "* Se puede usar para obtener mucha información o cosas muy concretas\n",
    "\n",
    "\n",
    "* Web crawling proceso de extraer los enlaces, y web scraping sirve para extraer los datos\n",
    "\n",
    "\n",
    "\n",
    "* Lo usan los buscadores, por ejemplo google tienen Bots que hace todo esto."
   ]
  },
  {
   "cell_type": "markdown",
   "id": "d288e59b",
   "metadata": {},
   "source": [
    "**Campos de uso:**\n",
    "\n",
    "* Marketing Digital, SEO, etc\n",
    "\n",
    "* Análisis de precios\n",
    "\n",
    "* Ofertas\n",
    "\n",
    "* Nuevos productos\n",
    "\n",
    "* Comprobar la opinión de clientes en Twitter"
   ]
  },
  {
   "cell_type": "markdown",
   "id": "9d6403a6",
   "metadata": {},
   "source": [
    "**Requisitos:**\n",
    "    \n",
    "* HTML entre otros (no es como tal lenguaje de programación\n",
    "\n",
    "* entre otras cosas"
   ]
  },
  {
   "cell_type": "markdown",
   "id": "5992a916",
   "metadata": {},
   "source": [
    "**Legalidad:**\n",
    "    \n",
    "* Problemáticas, a veces en caso en los que hay competencia desleal\n",
    "\n",
    "* Condiciones legales del sitio web\n",
    "\n",
    "* En algunos casos se contacta a la empresa para ver si permiten screarles\n",
    "\n",
    "Encontradas en:\n",
    "\n",
    "* Condiciones de uso\n",
    "       \n",
    "* Aviso legal\n",
    "\n",
    "\n",
    "\n",
    "* Si hay muchas peticiones, podría colapsar la web de la cual queremos obtener datos\n",
    "\n",
    "* En estadísticas de la web, puede haber falseo de datos.\n",
    "\n",
    "* Estos bots se les suele llamar arañas"
   ]
  },
  {
   "cell_type": "markdown",
   "id": "96efcc17",
   "metadata": {},
   "source": [
    "**Muchas empresas se protegen contra el scraping, (la mayoría se protegen):**\n",
    "\n",
    "\n",
    "* Captcha\n",
    "\n",
    "* Tratan de evitar comportamiento no humano\n",
    "\n",
    "* Pueden limitar el número de peticiones, por eso en algunos casos no nos dejan hacerlo tras unas cuantas peticiones.\n",
    "\n",
    "* Es por eso que las peticiones que se hagan deben no ser muy repetitivas.\n",
    "\n",
    "(simulando comportamiento humano)"
   ]
  },
  {
   "cell_type": "markdown",
   "id": "303f72e2",
   "metadata": {},
   "source": [
    "**Recomendaciones:**\n",
    "    \n",
    "* Usar API siempre que se pueda\n",
    "\n",
    "* El problema que las APIs no siempre ofrecen toda la información\n",
    "\n",
    "\n",
    "Ejemplos:\n",
    "\n",
    "API de Twitter: \n",
    "https://developer.twitter.com/en/docs/twitter-api/getting-started/about-twitter-api\n",
    "\n",
    "\n",
    "Twitter- con WebScraping\n",
    "https://github.com/twintproject/twint\n",
    "\n",
    "\n",
    "Yahoo Finance API\n",
    "https://www.yahoofinanceapi.com/"
   ]
  },
  {
   "cell_type": "markdown",
   "id": "ea95d711",
   "metadata": {},
   "source": [
    "**Python el scrapeo web:**\n",
    "\n",
    "* Dispone de muchas librerías\n",
    "\n",
    "* Podemos hacer todo el proyecto en Python no solo recopilación de información"
   ]
  },
  {
   "cell_type": "markdown",
   "id": "7e05e2cc",
   "metadata": {},
   "source": [
    "****"
   ]
  },
  {
   "cell_type": "markdown",
   "id": "57b7666e",
   "metadata": {},
   "source": [
    "*Gracias por la atención*\n",
    "\n",
    "*Isabel Maniega*"
   ]
  }
 ],
 "metadata": {
  "kernelspec": {
   "display_name": "Python 3 (ipykernel)",
   "language": "python",
   "name": "python3"
  },
  "language_info": {
   "codemirror_mode": {
    "name": "ipython",
    "version": 3
   },
   "file_extension": ".py",
   "mimetype": "text/x-python",
   "name": "python",
   "nbconvert_exporter": "python",
   "pygments_lexer": "ipython3",
   "version": "3.8.15"
  }
 },
 "nbformat": 4,
 "nbformat_minor": 5
}
